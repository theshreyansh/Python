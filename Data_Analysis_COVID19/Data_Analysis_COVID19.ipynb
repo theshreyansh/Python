{
 "metadata": {
  "language_info": {
   "codemirror_mode": {
    "name": "ipython",
    "version": 3
   },
   "file_extension": ".py",
   "mimetype": "text/x-python",
   "name": "python",
   "nbconvert_exporter": "python",
   "pygments_lexer": "ipython3",
   "version": 3
  },
  "orig_nbformat": 2,
  "kernelspec": {
   "name": "python_defaultSpec_1595515854416",
   "display_name": "Python 3.8.3 64-bit"
  }
 },
 "nbformat": 4,
 "nbformat_minor": 2,
 "cells": [
  {
   "cell_type": "code",
   "execution_count": 2,
   "metadata": {},
   "outputs": [],
   "source": [
    "import pandas as pd\n",
    "import wget "
   ]
  },
  {
   "cell_type": "code",
   "execution_count": 8,
   "metadata": {},
   "outputs": [],
   "source": [
    "# url of the raw csv dataset\n",
    "urls = [\n",
    "    'https://raw.githubusercontent.com/CSSEGISandData/COVID-19/master/csse_covid_19_data/csse_covid_19_time_series/time_series_covid19_confirmed_global.csv',\n",
    "    'https://raw.githubusercontent.com/CSSEGISandData/COVID-19/master/csse_covid_19_data/csse_covid_19_time_series/time_series_covid19_deaths_global.csv',\n",
    "    'https://raw.githubusercontent.com/CSSEGISandData/COVID-19/master/csse_covid_19_data/csse_covid_19_time_series/time_series_covid19_recovered_global.csv'\n",
    "]\n",
    "for url in urls:\n",
    "    wget.download(url)"
   ]
  },
  {
   "cell_type": "code",
   "execution_count": 10,
   "metadata": {},
   "outputs": [],
   "source": [
    "confirmed_df = pd.read_csv('time_series_covid19_confirmed_global.csv')\n",
    "deaths_df = pd.read_csv('time_series_covid19_deaths_global.csv')\n",
    "recovered_df = pd.read_csv('time_series_covid19_recovered_global.csv')"
   ]
  },
  {
   "cell_type": "code",
   "execution_count": 12,
   "metadata": {},
   "outputs": [
    {
     "output_type": "execute_result",
     "data": {
      "text/plain": "  Province/State Country/Region       Lat       Long  1/22/20  1/23/20  \\\n0            NaN    Afghanistan  33.93911  67.709953        0        0   \n1            NaN        Albania  41.15330  20.168300        0        0   \n2            NaN        Algeria  28.03390   1.659600        0        0   \n3            NaN        Andorra  42.50630   1.521800        0        0   \n4            NaN         Angola -11.20270  17.873900        0        0   \n\n   1/24/20  1/25/20  1/26/20  1/27/20  ...  7/13/20  7/14/20  7/15/20  \\\n0        0        0        0        0  ...    34455    34740    34994   \n1        0        0        0        0  ...     3571     3667     3752   \n2        0        0        0        0  ...    19689    20216    20770   \n3        0        0        0        0  ...      858      861      862   \n4        0        0        0        0  ...      525      541      576   \n\n   7/16/20  7/17/20  7/18/20  7/19/20  7/20/20  7/21/20  7/22/20  \n0    35070    35229    35301    35475    35526    35615    35727  \n1     3851     3906     4008     4090     4171     4290     4358  \n2    21355    21948    22549    23084    23691    24278    24872  \n3      877      880      880      880      884      884      889  \n4      607      638      687      705      749      779      812  \n\n[5 rows x 187 columns]",
      "text/html": "<div>\n<style scoped>\n    .dataframe tbody tr th:only-of-type {\n        vertical-align: middle;\n    }\n\n    .dataframe tbody tr th {\n        vertical-align: top;\n    }\n\n    .dataframe thead th {\n        text-align: right;\n    }\n</style>\n<table border=\"1\" class=\"dataframe\">\n  <thead>\n    <tr style=\"text-align: right;\">\n      <th></th>\n      <th>Province/State</th>\n      <th>Country/Region</th>\n      <th>Lat</th>\n      <th>Long</th>\n      <th>1/22/20</th>\n      <th>1/23/20</th>\n      <th>1/24/20</th>\n      <th>1/25/20</th>\n      <th>1/26/20</th>\n      <th>1/27/20</th>\n      <th>...</th>\n      <th>7/13/20</th>\n      <th>7/14/20</th>\n      <th>7/15/20</th>\n      <th>7/16/20</th>\n      <th>7/17/20</th>\n      <th>7/18/20</th>\n      <th>7/19/20</th>\n      <th>7/20/20</th>\n      <th>7/21/20</th>\n      <th>7/22/20</th>\n    </tr>\n  </thead>\n  <tbody>\n    <tr>\n      <th>0</th>\n      <td>NaN</td>\n      <td>Afghanistan</td>\n      <td>33.93911</td>\n      <td>67.709953</td>\n      <td>0</td>\n      <td>0</td>\n      <td>0</td>\n      <td>0</td>\n      <td>0</td>\n      <td>0</td>\n      <td>...</td>\n      <td>34455</td>\n      <td>34740</td>\n      <td>34994</td>\n      <td>35070</td>\n      <td>35229</td>\n      <td>35301</td>\n      <td>35475</td>\n      <td>35526</td>\n      <td>35615</td>\n      <td>35727</td>\n    </tr>\n    <tr>\n      <th>1</th>\n      <td>NaN</td>\n      <td>Albania</td>\n      <td>41.15330</td>\n      <td>20.168300</td>\n      <td>0</td>\n      <td>0</td>\n      <td>0</td>\n      <td>0</td>\n      <td>0</td>\n      <td>0</td>\n      <td>...</td>\n      <td>3571</td>\n      <td>3667</td>\n      <td>3752</td>\n      <td>3851</td>\n      <td>3906</td>\n      <td>4008</td>\n      <td>4090</td>\n      <td>4171</td>\n      <td>4290</td>\n      <td>4358</td>\n    </tr>\n    <tr>\n      <th>2</th>\n      <td>NaN</td>\n      <td>Algeria</td>\n      <td>28.03390</td>\n      <td>1.659600</td>\n      <td>0</td>\n      <td>0</td>\n      <td>0</td>\n      <td>0</td>\n      <td>0</td>\n      <td>0</td>\n      <td>...</td>\n      <td>19689</td>\n      <td>20216</td>\n      <td>20770</td>\n      <td>21355</td>\n      <td>21948</td>\n      <td>22549</td>\n      <td>23084</td>\n      <td>23691</td>\n      <td>24278</td>\n      <td>24872</td>\n    </tr>\n    <tr>\n      <th>3</th>\n      <td>NaN</td>\n      <td>Andorra</td>\n      <td>42.50630</td>\n      <td>1.521800</td>\n      <td>0</td>\n      <td>0</td>\n      <td>0</td>\n      <td>0</td>\n      <td>0</td>\n      <td>0</td>\n      <td>...</td>\n      <td>858</td>\n      <td>861</td>\n      <td>862</td>\n      <td>877</td>\n      <td>880</td>\n      <td>880</td>\n      <td>880</td>\n      <td>884</td>\n      <td>884</td>\n      <td>889</td>\n    </tr>\n    <tr>\n      <th>4</th>\n      <td>NaN</td>\n      <td>Angola</td>\n      <td>-11.20270</td>\n      <td>17.873900</td>\n      <td>0</td>\n      <td>0</td>\n      <td>0</td>\n      <td>0</td>\n      <td>0</td>\n      <td>0</td>\n      <td>...</td>\n      <td>525</td>\n      <td>541</td>\n      <td>576</td>\n      <td>607</td>\n      <td>638</td>\n      <td>687</td>\n      <td>705</td>\n      <td>749</td>\n      <td>779</td>\n      <td>812</td>\n    </tr>\n  </tbody>\n</table>\n<p>5 rows × 187 columns</p>\n</div>"
     },
     "metadata": {},
     "execution_count": 12
    }
   ],
   "source": [
    "# confirmed_df.head()\n",
    "# deaths_df.head()\n",
    "# recovered_df.head()"
   ]
  },
  {
   "cell_type": "code",
   "execution_count": 13,
   "metadata": {},
   "outputs": [],
   "source": [
    "dates = confirmed_df.columns[4:]\n",
    "confirmed_df_long = confirmed_df.melt(\n",
    "    id_vars=['Province/State', 'Country/Region', 'Lat', 'Long'], \n",
    "    value_vars=dates, \n",
    "    var_name='Date', \n",
    "    value_name='Confirmed')\n",
    "deaths_df_long = deaths_df.melt(\n",
    "    id_vars=['Province/State', 'Country/Region', 'Lat', 'Long'], \n",
    "    value_vars=dates, \n",
    "    var_name='Date', \n",
    "    value_name='Deaths')\n",
    "recovered_df_long = recovered_df.melt(\n",
    "    id_vars=['Province/State', 'Country/Region', 'Lat', 'Long'], \n",
    "    value_vars=dates, \n",
    "    var_name='Date', \n",
    "    value_name='Recovered')"
   ]
  },
  {
   "cell_type": "code",
   "execution_count": 15,
   "metadata": {},
   "outputs": [],
   "source": [
    "# Canada recovered data is counted by Country-wise rather than Province/State-wise, so need to remove\n",
    "recovered_df_long = recovered_df_long[recovered_df_long['Country/Region']!='Canada']"
   ]
  },
  {
   "cell_type": "code",
   "execution_count": 16,
   "metadata": {},
   "outputs": [],
   "source": [
    "# Merging confirmed_df_long and deaths_df_long\n",
    "full_table = confirmed_df_long.merge(\n",
    "  right=deaths_df_long, \n",
    "  how='left',\n",
    "  on=['Province/State', 'Country/Region', 'Date', 'Lat', 'Long']\n",
    ")# Merging full_table and recovered_df_long\n",
    "full_table = full_table.merge(\n",
    "  right=recovered_df_long, \n",
    "  how='left',\n",
    "  on=['Province/State', 'Country/Region', 'Date', 'Lat', 'Long']\n",
    ")"
   ]
  },
  {
   "cell_type": "code",
   "execution_count": 18,
   "metadata": {},
   "outputs": [],
   "source": [
    "full_table['Date'] = pd.to_datetime(full_table['Date'])\n"
   ]
  },
  {
   "cell_type": "code",
   "execution_count": 19,
   "metadata": {},
   "outputs": [
    {
     "output_type": "execute_result",
     "data": {
      "text/plain": "Province/State    33855\nCountry/Region        0\nLat                   0\nLong                  0\nDate                  0\nConfirmed             0\nDeaths                0\nRecovered          3660\ndtype: int64"
     },
     "metadata": {},
     "execution_count": 19
    }
   ],
   "source": [
    "full_table.isna().sum()"
   ]
  },
  {
   "cell_type": "code",
   "execution_count": null,
   "metadata": {},
   "outputs": [],
   "source": []
  }
 ]
}