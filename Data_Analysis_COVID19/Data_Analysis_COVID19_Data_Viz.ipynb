{
 "metadata": {
  "language_info": {
   "codemirror_mode": {
    "name": "ipython",
    "version": 3
   },
   "file_extension": ".py",
   "mimetype": "text/x-python",
   "name": "python",
   "nbconvert_exporter": "python",
   "pygments_lexer": "ipython3",
   "version": 3
  },
  "orig_nbformat": 2,
  "kernelspec": {
   "name": "python_defaultSpec_1595694673389",
   "display_name": "Python 3.8.3 64-bit"
  }
 },
 "nbformat": 4,
 "nbformat_minor": 2,
 "cells": [
  {
   "cell_type": "code",
   "execution_count": 1,
   "metadata": {},
   "outputs": [],
   "source": [
    "import pandas as pd\n",
    "import altair as alt\n",
    "full_grouped = pd.read_csv('COVID-19-time-series-clean-complete.csv', parse_dates=['Date'])\n",
    "uk = full_grouped[full_grouped['Country/Region'] == 'United Kingdom']\n"
   ]
  },
  {
   "cell_type": "code",
   "execution_count": 2,
   "metadata": {},
   "outputs": [],
   "source": [
    "base = alt.Chart(uk).mark_bar().encode(\n",
    "    x='monthdate(Date):O',\n",
    ").properties(\n",
    "    width=500\n",
    ")"
   ]
  },
  {
   "cell_type": "code",
   "execution_count": 9,
   "metadata": {},
   "outputs": [
    {
     "output_type": "error",
     "ename": "NameError",
     "evalue": "name 'countries' is not defined",
     "traceback": [
      "\u001b[1;31m---------------------------------------------------------------------------\u001b[0m",
      "\u001b[1;31mNameError\u001b[0m                                 Traceback (most recent call last)",
      "\u001b[1;32m<ipython-input-9-c6d69b057660>\u001b[0m in \u001b[0;36m<module>\u001b[1;34m\u001b[0m\n\u001b[0;32m      3\u001b[0m \u001b[1;33m\u001b[0m\u001b[0m\n\u001b[0;32m      4\u001b[0m \u001b[1;31m# countries = full_grouped['US', 'Italy', 'China', 'Spain', 'Germany', 'France', 'Iran', 'United Kingdom','Switzerland']\u001b[0m\u001b[1;33m\u001b[0m\u001b[1;33m\u001b[0m\u001b[1;33m\u001b[0m\u001b[0m\n\u001b[1;32m----> 5\u001b[1;33m \u001b[0mselected_countries\u001b[0m \u001b[1;33m=\u001b[0m \u001b[0mfull_grouped\u001b[0m\u001b[1;33m[\u001b[0m\u001b[0mfull_grouped\u001b[0m\u001b[1;33m[\u001b[0m\u001b[1;34m'Country/Region'\u001b[0m\u001b[1;33m]\u001b[0m\u001b[1;33m.\u001b[0m\u001b[0misin\u001b[0m\u001b[1;33m(\u001b[0m\u001b[0mcountries\u001b[0m\u001b[1;33m)\u001b[0m\u001b[1;33m]\u001b[0m\u001b[1;33m\u001b[0m\u001b[1;33m\u001b[0m\u001b[0m\n\u001b[0m",
      "\u001b[1;31mNameError\u001b[0m: name 'countries' is not defined"
     ]
    }
   ],
   "source": [
    "# Showing the coronavirus spreads\n",
    "full_grouped = pd.read_csv('COVID-19-time-series-clean-complete.csv', parse_dates=['Date'])\n",
    "\n",
    "# countries = full_grouped['US', 'Italy', 'China', 'Spain', 'Germany', 'France', 'Iran', 'United Kingdom','Switzerland']\n",
    "selected_countries = full_grouped[full_grouped['Country/Region'].isin(countries)]"
   ]
  },
  {
   "cell_type": "code",
   "execution_count": null,
   "metadata": {},
   "outputs": [],
   "source": []
  }
 ]
}