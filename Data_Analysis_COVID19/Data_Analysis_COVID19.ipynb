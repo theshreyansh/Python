{
 "metadata": {
  "language_info": {
   "codemirror_mode": {
    "name": "ipython",
    "version": 3
   },
   "file_extension": ".py",
   "mimetype": "text/x-python",
   "name": "python",
   "nbconvert_exporter": "python",
   "pygments_lexer": "ipython3",
   "version": 3
  },
  "orig_nbformat": 2,
  "kernelspec": {
   "name": "python_defaultSpec_1595675402181",
   "display_name": "Python 3.8.3 64-bit"
  }
 },
 "nbformat": 4,
 "nbformat_minor": 2,
 "cells": [
  {
   "cell_type": "code",
   "execution_count": 49,
   "metadata": {},
   "outputs": [],
   "source": [
    "import pandas as pd\n",
    "import wget \n",
    "import numpy as np"
   ]
  },
  {
   "cell_type": "code",
   "execution_count": 50,
   "metadata": {},
   "outputs": [],
   "source": [
    "# url of the raw csv dataset\n",
    "urls = [\n",
    "    'https://raw.githubusercontent.com/CSSEGISandData/COVID-19/master/csse_covid_19_data/csse_covid_19_time_series/time_series_covid19_confirmed_global.csv',\n",
    "    'https://raw.githubusercontent.com/CSSEGISandData/COVID-19/master/csse_covid_19_data/csse_covid_19_time_series/time_series_covid19_deaths_global.csv',\n",
    "    'https://raw.githubusercontent.com/CSSEGISandData/COVID-19/master/csse_covid_19_data/csse_covid_19_time_series/time_series_covid19_recovered_global.csv'\n",
    "]\n",
    "for url in urls:\n",
    "    wget.download(url)"
   ]
  },
  {
   "cell_type": "code",
   "execution_count": 51,
   "metadata": {},
   "outputs": [],
   "source": [
    "confirmed_df = pd.read_csv('time_series_covid19_confirmed_global.csv')\n",
    "deaths_df = pd.read_csv('time_series_covid19_deaths_global.csv')\n",
    "recovered_df = pd.read_csv('time_series_covid19_recovered_global.csv')"
   ]
  },
  {
   "cell_type": "code",
   "execution_count": 52,
   "metadata": {},
   "outputs": [],
   "source": [
    "# confirmed_df.head()\n",
    "# deaths_df.head()\n",
    "# recovered_df.head()"
   ]
  },
  {
   "cell_type": "code",
   "execution_count": 53,
   "metadata": {},
   "outputs": [],
   "source": [
    "dates = confirmed_df.columns[4:]\n",
    "confirmed_df_long = confirmed_df.melt(\n",
    "    id_vars=['Province/State', 'Country/Region', 'Lat', 'Long'], \n",
    "    value_vars=dates, \n",
    "    var_name='Date', \n",
    "    value_name='Confirmed')\n",
    "deaths_df_long = deaths_df.melt(\n",
    "    id_vars=['Province/State', 'Country/Region', 'Lat', 'Long'], \n",
    "    value_vars=dates, \n",
    "    var_name='Date', \n",
    "    value_name='Deaths')\n",
    "recovered_df_long = recovered_df.melt(\n",
    "    id_vars=['Province/State', 'Country/Region', 'Lat', 'Long'], \n",
    "    value_vars=dates, \n",
    "    var_name='Date', \n",
    "    value_name='Recovered')"
   ]
  },
  {
   "cell_type": "code",
   "execution_count": 54,
   "metadata": {},
   "outputs": [],
   "source": [
    "# Canada recovered data is counted by Country-wise rather than Province/State-wise, so need to remove\n",
    "recovered_df_long = recovered_df_long[recovered_df_long['Country/Region']!='Canada']"
   ]
  },
  {
   "cell_type": "code",
   "execution_count": 55,
   "metadata": {},
   "outputs": [],
   "source": [
    "# Merging confirmed_df_long and deaths_df_long\n",
    "full_table = confirmed_df_long.merge(\n",
    "  right=deaths_df_long, \n",
    "  how='left',\n",
    "  on=['Province/State', 'Country/Region', 'Date', 'Lat', 'Long']\n",
    ")\n",
    "# Merging full_table and recovered_df_long\n",
    "full_table = full_table.merge(\n",
    "  right=recovered_df_long, \n",
    "  how='left',\n",
    "  on=['Province/State', 'Country/Region', 'Date', 'Lat', 'Long']\n",
    ")"
   ]
  },
  {
   "cell_type": "code",
   "execution_count": 56,
   "metadata": {},
   "outputs": [],
   "source": [
    "full_table['Date'] = pd.to_datetime(full_table['Date'])\n"
   ]
  },
  {
   "cell_type": "code",
   "execution_count": 57,
   "metadata": {},
   "outputs": [
    {
     "output_type": "execute_result",
     "data": {
      "text/plain": "Province/State    34225\nCountry/Region        0\nLat                   0\nLong                  0\nDate                  0\nConfirmed             0\nDeaths                0\nRecovered          3515\ndtype: int64"
     },
     "metadata": {},
     "execution_count": 57
    }
   ],
   "source": [
    "full_table.isna().sum()"
   ]
  },
  {
   "cell_type": "code",
   "execution_count": 58,
   "metadata": {},
   "outputs": [],
   "source": [
    "full_table['Recovered'] = full_table['Recovered'].fillna(0)"
   ]
  },
  {
   "cell_type": "code",
   "execution_count": 59,
   "metadata": {},
   "outputs": [],
   "source": [
    "ship_rows = full_table['Province/State'].str.contains('Grand Princess') | full_table['Province/State'].str.contains('Diamond Princess') | full_table['Country/Region'].str.contains('Diamond Princess') | full_table['Country/Region'].str.contains('MS Zaandam')\n",
    "full_ship = full_table[ship_rows]\n",
    "full_table = full_table[~(ship_rows)]"
   ]
  },
  {
   "cell_type": "code",
   "execution_count": 60,
   "metadata": {},
   "outputs": [],
   "source": [
    "# Active Case = confirmed - deaths - recovered\n",
    "full_table['Active'] = full_table['Confirmed'] - full_table['Deaths'] - full_table['Recovered']\n"
   ]
  },
  {
   "cell_type": "code",
   "execution_count": 61,
   "metadata": {},
   "outputs": [],
   "source": [
    "full_grouped = full_table.groupby(['Date', 'Country/Region'])['Confirmed', 'Deaths', 'Recovered', 'Active'].sum().reset_index()"
   ]
  },
  {
   "cell_type": "code",
   "execution_count": 62,
   "metadata": {},
   "outputs": [],
   "source": [
    "# new cases \n",
    "temp = full_grouped.groupby(['Country/Region', 'Date', ])['Confirmed', 'Deaths', 'Recovered']\n",
    "temp = temp.sum().diff().reset_index()\n",
    "mask = temp['Country/Region'] != temp['Country/Region'].shift(1)\n",
    "temp.loc[mask, 'Confirmed'] = np.nan\n",
    "temp.loc[mask, 'Deaths'] = np.nan\n",
    "temp.loc[mask, 'Recovered'] = np.nan# renaming columns\n",
    "temp.columns = ['Country/Region', 'Date', 'New cases', 'New deaths', 'New recovered']# merging new values\n",
    "full_grouped = pd.merge(full_grouped, temp, on=['Country/Region', 'Date'])# filling na with 0\n",
    "full_grouped = full_grouped.fillna(0)# fixing data types\n",
    "cols = ['New cases', 'New deaths', 'New recovered']\n",
    "full_grouped[cols] = full_grouped[cols].astype('int')# \n",
    "full_grouped['New cases'] = full_grouped['New cases'].apply(lambda x: 0 if x<0 else x)\n"
   ]
  },
  {
   "cell_type": "code",
   "execution_count": 63,
   "metadata": {},
   "outputs": [],
   "source": [
    "full_grouped.to_csv('COVID-19-time-series-clean-complete.csv')"
   ]
  }
 ]
}